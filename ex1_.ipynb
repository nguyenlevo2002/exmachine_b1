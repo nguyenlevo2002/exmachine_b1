{
  "nbformat": 4,
  "nbformat_minor": 0,
  "metadata": {
    "colab": {
      "name": "ex1 .ipynb",
      "private_outputs": true,
      "provenance": [],
      "collapsed_sections": [],
      "mount_file_id": "14rlpQzrt8E9kw1Jbv_8xFS9-V-Zugcy9",
      "authorship_tag": "ABX9TyPPLJyfoQUrk2TT3lquSra6",
      "include_colab_link": true
    },
    "kernelspec": {
      "name": "python3",
      "display_name": "Python 3"
    },
    "language_info": {
      "name": "python"
    },
    "accelerator": "GPU",
    "gpuClass": "standard"
  },
  "cells": [
    {
      "cell_type": "markdown",
      "metadata": {
        "id": "view-in-github",
        "colab_type": "text"
      },
      "source": [
        "<a href=\"https://colab.research.google.com/github/nguyenlevo2002/exmachine_b1/blob/main/ex1_.ipynb\" target=\"_parent\"><img src=\"https://colab.research.google.com/assets/colab-badge.svg\" alt=\"Open In Colab\"/></a>"
      ]
    },
    {
      "cell_type": "code",
      "execution_count": null,
      "metadata": {
        "id": "wYBSjubJeOwv"
      },
      "outputs": [],
      "source": [
        "!git clone https://github.com/nguyenlevo2002/exmachine_b1"
      ]
    },
    {
      "cell_type": "code",
      "source": [
        "import numpy as np\n",
        "import matplotlib.pyplot as plt\n",
        "from sklearn import linear_model "
      ],
      "metadata": {
        "id": "DfBl5pD0fIK4"
      },
      "execution_count": null,
      "outputs": []
    },
    {
      "cell_type": "code",
      "source": [
        "X = np.array([[147, 150, 153, 158, 163, 165, 168, 170, 173, 175, 178, 180,\n",
        "183]]).T\n",
        "y = np.array([ 49, 50, 51, 54, 58, 59, 60, 62, 63, 64, 66, 67, 68])\n",
        "one = np.ones((X.shape[0], 1))\n",
        "Xbar = np.concatenate((one, X), axis = 1) # each row is one data point"
      ],
      "metadata": {
        "id": "BHfRNbhEhTxF"
      },
      "execution_count": null,
      "outputs": []
    },
    {
      "cell_type": "code",
      "source": [
        "plt.plot(X,y,'o')"
      ],
      "metadata": {
        "id": "2Odt1AU0ieUm"
      },
      "execution_count": null,
      "outputs": []
    },
    {
      "cell_type": "code",
      "source": [
        "from sklearn.model_selection import train_test_split\n",
        "x_train,x_test,y_train,y_test = train_test_split(X,y,test_size=0.3,random_state=1)"
      ],
      "metadata": {
        "id": "O5dn_Xoikjkk"
      },
      "execution_count": null,
      "outputs": []
    },
    {
      "cell_type": "code",
      "source": [
        "x_train.shape"
      ],
      "metadata": {
        "id": "ORYm6JpynYFP"
      },
      "execution_count": null,
      "outputs": []
    },
    {
      "cell_type": "code",
      "source": [
        "linear = linear_model.LinearRegression()"
      ],
      "metadata": {
        "id": "xDBSZk-end_a"
      },
      "execution_count": null,
      "outputs": []
    },
    {
      "cell_type": "code",
      "source": [
        "linear.fit(x_train,y_train)"
      ],
      "metadata": {
        "id": "CxLIxEBKoPCd"
      },
      "execution_count": null,
      "outputs": []
    },
    {
      "cell_type": "code",
      "source": [
        "y_predict = linear.predict(x_test)"
      ],
      "metadata": {
        "id": "grvmTWwFosCE"
      },
      "execution_count": null,
      "outputs": []
    },
    {
      "cell_type": "code",
      "source": [
        "y_prec_train = linear.predict(x_train)"
      ],
      "metadata": {
        "id": "TFsZcNqiofbC"
      },
      "execution_count": null,
      "outputs": []
    },
    {
      "cell_type": "code",
      "source": [
        "plt.scatter(x_train,y_train,color='green')\n",
        "plt.plot(x_train,y_prec_train,color='red')"
      ],
      "metadata": {
        "id": "TsFfjg6xpKyt"
      },
      "execution_count": null,
      "outputs": []
    },
    {
      "cell_type": "code",
      "source": [
        "plt.scatter(x_test,y_test,color='black')\n",
        "plt.plot(x_test,y_predict,color='blue')\n",
        "plt.scatter(x_test,y_predict,color='red')\n",
        "plt.show()"
      ],
      "metadata": {
        "id": "V9Z91jYApTPk"
      },
      "execution_count": null,
      "outputs": []
    },
    {
      "cell_type": "code",
      "source": [
        "x_test = 171\n",
        "print(y_predict)"
      ],
      "metadata": {
        "id": "ijOwF644p84D"
      },
      "execution_count": null,
      "outputs": []
    },
    {
      "cell_type": "code",
      "source": [
        ""
      ],
      "metadata": {
        "id": "_NrIdNKZrIbi"
      },
      "execution_count": null,
      "outputs": []
    }
  ]
}